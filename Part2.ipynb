{
 "cells": [
  {
   "cell_type": "markdown",
   "id": "358ca590-eb38-4cd2-aaac-5dc06c48f597",
   "metadata": {},
   "source": [
    "# Data Mining (2024-2025): Part 2 - Credit Card Default Classification\n",
    "by Ahmad Bafakih <br>"
   ]
  },
  {
   "cell_type": "code",
   "execution_count": 63,
   "id": "d3a884e2-c548-4619-a48a-c12323c28602",
   "metadata": {},
   "outputs": [],
   "source": [
    "# import required packages\n",
    "import pandas as pd\n",
    "import numpy as np\n",
    "import matplotlib.pyplot as plt\n",
    "import sklearn\n",
    "from sklearn.neighbors import KNeighborsClassifier\n",
    "from sklearn.tree import DecisionTreeClassifier\n",
    "import xgboost\n",
    "from sklearn.metrics import accuracy_score\n",
    "from sklearn.model_selection import StratifiedKFold, GridSearchCV\n",
    "import joblib"
   ]
  },
  {
   "cell_type": "markdown",
   "id": "8f2cfd70-55ab-417a-870c-e42c2fa0aa0c",
   "metadata": {},
   "source": [
    "## Dataset Exploration and Preparation"
   ]
  },
  {
   "cell_type": "code",
   "execution_count": 62,
   "id": "5c117250-77c5-4bc1-8962-25c8ec87abf6",
   "metadata": {},
   "outputs": [
    {
     "name": "stdout",
     "output_type": "stream",
     "text": [
      "Train dataset shape: (15000, 24)\n",
      "Test dataset shape: (15000, 24)\n"
     ]
    },
    {
     "data": {
      "text/html": [
       "<div>\n",
       "<style scoped>\n",
       "    .dataframe tbody tr th:only-of-type {\n",
       "        vertical-align: middle;\n",
       "    }\n",
       "\n",
       "    .dataframe tbody tr th {\n",
       "        vertical-align: top;\n",
       "    }\n",
       "\n",
       "    .dataframe thead th {\n",
       "        text-align: right;\n",
       "    }\n",
       "</style>\n",
       "<table border=\"1\" class=\"dataframe\">\n",
       "  <thead>\n",
       "    <tr style=\"text-align: right;\">\n",
       "      <th></th>\n",
       "      <th>Y</th>\n",
       "      <th>X1</th>\n",
       "      <th>X2</th>\n",
       "      <th>X3</th>\n",
       "      <th>X4</th>\n",
       "      <th>X5</th>\n",
       "      <th>X6</th>\n",
       "      <th>X7</th>\n",
       "      <th>X8</th>\n",
       "      <th>X9</th>\n",
       "      <th>...</th>\n",
       "      <th>X14</th>\n",
       "      <th>X15</th>\n",
       "      <th>X16</th>\n",
       "      <th>X17</th>\n",
       "      <th>X18</th>\n",
       "      <th>X19</th>\n",
       "      <th>X20</th>\n",
       "      <th>X21</th>\n",
       "      <th>X22</th>\n",
       "      <th>X23</th>\n",
       "    </tr>\n",
       "  </thead>\n",
       "  <tbody>\n",
       "    <tr>\n",
       "      <th>0</th>\n",
       "      <td>1</td>\n",
       "      <td>20000</td>\n",
       "      <td>2</td>\n",
       "      <td>2</td>\n",
       "      <td>1</td>\n",
       "      <td>24</td>\n",
       "      <td>2</td>\n",
       "      <td>2</td>\n",
       "      <td>-1</td>\n",
       "      <td>-1</td>\n",
       "      <td>...</td>\n",
       "      <td>689</td>\n",
       "      <td>0</td>\n",
       "      <td>0</td>\n",
       "      <td>0</td>\n",
       "      <td>0</td>\n",
       "      <td>689</td>\n",
       "      <td>0</td>\n",
       "      <td>0</td>\n",
       "      <td>0</td>\n",
       "      <td>0</td>\n",
       "    </tr>\n",
       "    <tr>\n",
       "      <th>1</th>\n",
       "      <td>0</td>\n",
       "      <td>50000</td>\n",
       "      <td>2</td>\n",
       "      <td>2</td>\n",
       "      <td>1</td>\n",
       "      <td>37</td>\n",
       "      <td>0</td>\n",
       "      <td>0</td>\n",
       "      <td>0</td>\n",
       "      <td>0</td>\n",
       "      <td>...</td>\n",
       "      <td>49291</td>\n",
       "      <td>28314</td>\n",
       "      <td>28959</td>\n",
       "      <td>29547</td>\n",
       "      <td>2000</td>\n",
       "      <td>2019</td>\n",
       "      <td>1200</td>\n",
       "      <td>1100</td>\n",
       "      <td>1069</td>\n",
       "      <td>1000</td>\n",
       "    </tr>\n",
       "    <tr>\n",
       "      <th>2</th>\n",
       "      <td>0</td>\n",
       "      <td>50000</td>\n",
       "      <td>1</td>\n",
       "      <td>2</td>\n",
       "      <td>1</td>\n",
       "      <td>57</td>\n",
       "      <td>-1</td>\n",
       "      <td>0</td>\n",
       "      <td>-1</td>\n",
       "      <td>0</td>\n",
       "      <td>...</td>\n",
       "      <td>35835</td>\n",
       "      <td>20940</td>\n",
       "      <td>19146</td>\n",
       "      <td>19131</td>\n",
       "      <td>2000</td>\n",
       "      <td>36681</td>\n",
       "      <td>10000</td>\n",
       "      <td>9000</td>\n",
       "      <td>689</td>\n",
       "      <td>679</td>\n",
       "    </tr>\n",
       "    <tr>\n",
       "      <th>3</th>\n",
       "      <td>0</td>\n",
       "      <td>50000</td>\n",
       "      <td>1</td>\n",
       "      <td>1</td>\n",
       "      <td>2</td>\n",
       "      <td>37</td>\n",
       "      <td>0</td>\n",
       "      <td>0</td>\n",
       "      <td>0</td>\n",
       "      <td>0</td>\n",
       "      <td>...</td>\n",
       "      <td>57608</td>\n",
       "      <td>19394</td>\n",
       "      <td>19619</td>\n",
       "      <td>20024</td>\n",
       "      <td>2500</td>\n",
       "      <td>1815</td>\n",
       "      <td>657</td>\n",
       "      <td>1000</td>\n",
       "      <td>1000</td>\n",
       "      <td>800</td>\n",
       "    </tr>\n",
       "    <tr>\n",
       "      <th>4</th>\n",
       "      <td>0</td>\n",
       "      <td>500000</td>\n",
       "      <td>1</td>\n",
       "      <td>1</td>\n",
       "      <td>2</td>\n",
       "      <td>29</td>\n",
       "      <td>0</td>\n",
       "      <td>0</td>\n",
       "      <td>0</td>\n",
       "      <td>0</td>\n",
       "      <td>...</td>\n",
       "      <td>445007</td>\n",
       "      <td>542653</td>\n",
       "      <td>483003</td>\n",
       "      <td>473944</td>\n",
       "      <td>55000</td>\n",
       "      <td>40000</td>\n",
       "      <td>38000</td>\n",
       "      <td>20239</td>\n",
       "      <td>13750</td>\n",
       "      <td>13770</td>\n",
       "    </tr>\n",
       "  </tbody>\n",
       "</table>\n",
       "<p>5 rows × 24 columns</p>\n",
       "</div>"
      ],
      "text/plain": [
       "   Y      X1  X2  X3  X4  X5  X6  X7  X8  X9  ...     X14     X15     X16  \\\n",
       "0  1   20000   2   2   1  24   2   2  -1  -1  ...     689       0       0   \n",
       "1  0   50000   2   2   1  37   0   0   0   0  ...   49291   28314   28959   \n",
       "2  0   50000   1   2   1  57  -1   0  -1   0  ...   35835   20940   19146   \n",
       "3  0   50000   1   1   2  37   0   0   0   0  ...   57608   19394   19619   \n",
       "4  0  500000   1   1   2  29   0   0   0   0  ...  445007  542653  483003   \n",
       "\n",
       "      X17    X18    X19    X20    X21    X22    X23  \n",
       "0       0      0    689      0      0      0      0  \n",
       "1   29547   2000   2019   1200   1100   1069   1000  \n",
       "2   19131   2000  36681  10000   9000    689    679  \n",
       "3   20024   2500   1815    657   1000   1000    800  \n",
       "4  473944  55000  40000  38000  20239  13750  13770  \n",
       "\n",
       "[5 rows x 24 columns]"
      ]
     },
     "execution_count": 62,
     "metadata": {},
     "output_type": "execute_result"
    }
   ],
   "source": [
    "# load in train and test dataset \n",
    "creditdefault_train = pd.read_csv('./creditdefault_dataset/creditdefault_train.csv')\n",
    "creditdefault_test = pd.read_csv('./creditdefault_dataset/creditdefault_test.csv')\n",
    "\n",
    "# print dataset sizes\n",
    "print('Train dataset shape:', creditdefault_train.shape)\n",
    "print('Test dataset shape:', creditdefault_test.shape)\n",
    "\n",
    "# show first 5 samples\n",
    "creditdefault_train.head()"
   ]
  },
  {
   "cell_type": "markdown",
   "id": "85b435d9-2280-4863-8387-411139c2ab05",
   "metadata": {},
   "source": [
    "Check train and test dataset for any null values which would hinder the training process. Since it does not, imputing will not be necessary as there are no values to fill."
   ]
  },
  {
   "cell_type": "code",
   "execution_count": 3,
   "id": "271da6de-2264-418d-9382-8f1e6b9b1dc9",
   "metadata": {},
   "outputs": [
    {
     "data": {
      "text/plain": [
       "0"
      ]
     },
     "execution_count": 3,
     "metadata": {},
     "output_type": "execute_result"
    }
   ],
   "source": [
    "creditdefault_train.isnull().sum().sum()"
   ]
  },
  {
   "cell_type": "code",
   "execution_count": 4,
   "id": "c819c253-bd89-4530-a8da-950e83ca8065",
   "metadata": {},
   "outputs": [
    {
     "data": {
      "text/plain": [
       "0"
      ]
     },
     "execution_count": 4,
     "metadata": {},
     "output_type": "execute_result"
    }
   ],
   "source": [
    "creditdefault_test.isnull().sum().sum()"
   ]
  },
  {
   "cell_type": "markdown",
   "id": "f30e3e3b-c29c-4931-909b-c6bd4bd48d47",
   "metadata": {},
   "source": [
    "Considering this is a binary classification task, it is necessary to check for class imbalance to achieve the best model possible. As you can see below, there is a huge class imbalance between defaulters and non-defaulters. Techniques like stratified samlping will have to be implemented to counter this."
   ]
  },
  {
   "cell_type": "code",
   "execution_count": 5,
   "id": "19a6c455-4a4f-45f0-812d-5baf9260c6b2",
   "metadata": {},
   "outputs": [
    {
     "name": "stdout",
     "output_type": "stream",
     "text": [
      "Y\n",
      "0    11682\n",
      "1     3318\n",
      "Name: count, dtype: int64\n",
      "Y\n",
      "0    11682\n",
      "1     3318\n",
      "Name: count, dtype: int64\n"
     ]
    }
   ],
   "source": [
    "print(creditdefault_train['Y'].value_counts())\n",
    "print(creditdefault_test['Y'].value_counts())"
   ]
  },
  {
   "cell_type": "code",
   "execution_count": 6,
   "id": "862e9b54-9074-4784-a359-16cab300053f",
   "metadata": {},
   "outputs": [],
   "source": [
    "# Data splitting\n",
    "# train splits\n",
    "creditdefault_train_y = creditdefault_train['Y']\n",
    "creditdefault_train_X = creditdefault_train.drop('Y', axis=1)\n",
    "\n",
    "# test splits\n",
    "creditdefault_test_y = creditdefault_test['Y']\n",
    "creditdefault_test_X = creditdefault_test.drop('Y', axis=1)"
   ]
  },
  {
   "cell_type": "code",
   "execution_count": 7,
   "id": "0eecfc1c-03fa-43f3-8ef4-a83cd9bacdeb",
   "metadata": {},
   "outputs": [
    {
     "name": "stdout",
     "output_type": "stream",
     "text": [
      "creditdefault_train_X shape: (15000, 23)\n",
      "creditdefault_train_y shape: (15000,) \n",
      "\n",
      "creditdefault_test_X shape: (15000, 23)\n",
      "creditdefault_test_y shape: (15000,)\n"
     ]
    }
   ],
   "source": [
    "print('creditdefault_train_X shape:', creditdefault_train_X.shape)\n",
    "print('creditdefault_train_y shape:', creditdefault_train_y.shape, '\\n')\n",
    "print('creditdefault_test_X shape:', creditdefault_test_X.shape)\n",
    "print('creditdefault_test_y shape:', creditdefault_test_y.shape)"
   ]
  },
  {
   "cell_type": "markdown",
   "id": "0db9c440-fe21-455a-acf2-8e0af7e41f3a",
   "metadata": {},
   "source": [
    "## Build Functions"
   ]
  },
  {
   "cell_type": "code",
   "execution_count": 9,
   "id": "21dee1db-e910-40b9-977d-13fc8faecf60",
   "metadata": {},
   "outputs": [],
   "source": [
    "def plot(title, xlabel, ylabel, x, y):\n",
    "    plt.clf()\n",
    "    plt.title(title)\n",
    "    plt.xlabel(xlabel)\n",
    "    plt.ylabel(ylabel)\n",
    "    plt.plot(x, y)\n",
    "    plt.show()"
   ]
  },
  {
   "cell_type": "markdown",
   "id": "c101fadb-ae72-4650-9e3e-29f0078a4cc7",
   "metadata": {},
   "source": [
    "## Model 1: K-nearest neighbour"
   ]
  },
  {
   "cell_type": "markdown",
   "id": "d68bbd85-a18a-404d-adc7-419ac932d4fc",
   "metadata": {},
   "source": [
    "### Hyperparameter Tuning with Grid Search"
   ]
  },
  {
   "cell_type": "markdown",
   "id": "5c912ad0-06f2-4c2a-a951-bcc8d44df7e7",
   "metadata": {},
   "source": [
    "With the data clean and ready for learning, we can now begin building predictive models. The first classifier I will be implementing will be K-nearest neighbour. Ultimately, the goal is to build the best predictive model using cross-validation; however, a few steps is necessary before we can implement cross-validation and do a final model selection and evaluation.\n",
    "\n",
    "First, the initial experimentation will consist of using `GridSearchCV` to train multiple models with different values of `n_neighbours` and `power q`. I will be exploring 2 hyperparamter settings: `n_neigbors` and `p`. Both will be experimeted with values from 1 through 10 meaning there will be (10x10) possible hyperparameter settings and (10x10x5) model evaluations.\n",
    "\n",
    "The model evaluations comes from 5-fold cross validation. Since the dataset has a massive class imbalance, `StratifiedKFold` will be implemented with the grid search."
   ]
  },
  {
   "cell_type": "code",
   "execution_count": 11,
   "id": "2e9f21ce-a607-4a9f-bce8-503d77755937",
   "metadata": {},
   "outputs": [],
   "source": [
    "# Define Stratified K-Fold (5 splits)\n",
    "stratified_kf = StratifiedKFold(n_splits=5, shuffle=True, random_state=42)"
   ]
  },
  {
   "cell_type": "code",
   "execution_count": 19,
   "id": "8dfeae66-c096-40fe-8bc9-0fa9b685c3a7",
   "metadata": {},
   "outputs": [
    {
     "name": "stdout",
     "output_type": "stream",
     "text": [
      "best parameters for k-nearest neighbour is {'n_neighbors': 1, 'p': 1}\n"
     ]
    }
   ],
   "source": [
    "# prepare param_grid for grid search\n",
    "param_grid = {'n_neighbors': list(range(1, 11)),\n",
    "               'p': list(range(1, 11))}\n",
    "\n",
    "# define grid search\n",
    "KNN_GSCV = GridSearchCV(KNeighborsClassifier(), param_grid=param_grid, scoring='accuracy', n_jobs=6, cv=stratified_kf)\n",
    "\n",
    "# fit data to the model\n",
    "KNN_GSCV.fit(X=creditdefault_train_X, y=creditdefault_train_y)\n",
    "print ('best parameters for k-nearest neighbour is', KNN_GSCV.best_params_) "
   ]
  },
  {
   "cell_type": "code",
   "execution_count": 14,
   "id": "4590c4bb-9685-459d-9480-47f5ffa47169",
   "metadata": {},
   "outputs": [
    {
     "name": "stdout",
     "output_type": "stream",
     "text": [
      "dict_keys(['mean_fit_time', 'std_fit_time', 'mean_score_time', 'std_score_time', 'param_n_neighbors', 'param_p', 'params', 'split0_test_score', 'split1_test_score', 'split2_test_score', 'split3_test_score', 'split4_test_score', 'mean_test_score', 'std_test_score', 'rank_test_score'])\n"
     ]
    }
   ],
   "source": [
    "# save results object for further processing\n",
    "results = KNN_GSCV.cv_results_\n",
    "\n",
    "# print keys\n",
    "print(results.keys())\n",
    "\n",
    "# isolate results for n_neigbors = 1 and 10 for graphing\n",
    "results_n1 = results['mean_test_score'][:10]\n",
    "results_n10 = results['mean_test_score'][-10:]"
   ]
  },
  {
   "cell_type": "code",
   "execution_count": 15,
   "id": "bf493af3-0e82-45c7-b739-6b01fe2b505b",
   "metadata": {},
   "outputs": [
    {
     "data": {
      "image/png": "[encoded data removed]",
      "text/plain": [
       "<Figure size 640x480 with 1 Axes>"
      ]
     },
     "metadata": {},
     "output_type": "display_data"
    }
   ],
   "source": [
    "# x-axis values with respect to power of Q's experimented on\n",
    "plot_x = list(range(1, 11))\n",
    "# plot charts\n",
    "plot('power Q Vs. accuracy (n_neighbors=1)', 'power Q', 'accuracy', plot_x, results_n1)"
   ]
  },
  {
   "cell_type": "code",
   "execution_count": 16,
   "id": "72e20960-251d-4b38-a677-60c05644b2c1",
   "metadata": {},
   "outputs": [
    {
     "data": {
      "image/png": "[encoded data removed]",
      "text/plain": [
       "<Figure size 640x480 with 1 Axes>"
      ]
     },
     "metadata": {},
     "output_type": "display_data"
    }
   ],
   "source": [
    "plot('power Q Vs. accuracy (n_neighbors=10)', 'power Q', 'accuracy', plot_x, results_n10)"
   ]
  },
  {
   "cell_type": "markdown",
   "id": "78d8dbdc-4c70-459a-aba9-5745bd9f48a5",
   "metadata": {},
   "source": [
    "The graphs above show that in both models, n_neighbors=1 and n_neighbors=10, the accuracy at its highest is at power Q=1. As Q increases, accuracy decreases and achieves its lowest scores between Q=4 and Q=9. This means the manhatten distance is the best distance evaluater for both cases."
   ]
  },
  {
   "cell_type": "code",
   "execution_count": 14,
   "id": "bee2e0a9-a7ad-4837-8a1b-08a5d7023655",
   "metadata": {},
   "outputs": [
    {
     "data": {
      "text/plain": [
       "['KNN_GSCV_model.pkl']"
      ]
     },
     "execution_count": 14,
     "metadata": {},
     "output_type": "execute_result"
    }
   ],
   "source": [
    "# Save fitted GridSearchCV object\n",
    "joblib.dump(KNN_GSCV, \"KNN_GSCV_model.pkl\")"
   ]
  },
  {
   "cell_type": "code",
   "execution_count": 13,
   "id": "b52f2232-f277-4cb3-b6b5-1246c5385f24",
   "metadata": {},
   "outputs": [],
   "source": [
    "# load GridSearchCV object\n",
    "KNN_GSCV = joblib.load(\"KNN_GSCV_model.pkl\")"
   ]
  },
  {
   "cell_type": "markdown",
   "id": "1119fa01-522d-4fd6-85f5-bdf3f1b18b2c",
   "metadata": {},
   "source": [
    "### Final Model Selection and Evaluation "
   ]
  },
  {
   "cell_type": "markdown",
   "id": "40c795f0-4524-4123-9057-b8523c4112a2",
   "metadata": {},
   "source": [
    "Since we now know the best parameters for the knn model, we can train the best model once more on the full train dataset and evaluate it on the train set."
   ]
  },
  {
   "cell_type": "code",
   "execution_count": 17,
   "id": "4ca8bd8f-74f4-4821-b220-3f464e176c39",
   "metadata": {},
   "outputs": [
    {
     "name": "stdout",
     "output_type": "stream",
     "text": [
      "Final accuracy score: 0.7766\n"
     ]
    }
   ],
   "source": [
    "# get best model from GridSearchCV\n",
    "KNN_best = KNN_GSCV.best_estimator_\n",
    "\n",
    "# fit training full training data on it\n",
    "KNN_best.fit(creditdefault_train_X, creditdefault_train_y)\n",
    "\n",
    "# create prediction on test y\n",
    "predictions = KNN_best.predict(creditdefault_test_X)\n",
    "\n",
    "# compute accuracy between predictions and true labels\n",
    "accuracy = accuracy_score(creditdefault_test_y, predictions)\n",
    "\n",
    "# print final accuracy score\n",
    "print('Final accuracy score:', accuracy)"
   ]
  },
  {
   "cell_type": "markdown",
   "id": "e56d0468-cc86-456e-b73e-c78f66fb6fa7",
   "metadata": {},
   "source": [
    "## Model 2: Decision Trees"
   ]
  },
  {
   "cell_type": "markdown",
   "id": "e6fe4852-7508-4629-9b3c-58b382f752e8",
   "metadata": {},
   "source": [
    "### Hyperparameter Tuning with Grid Search\n",
    "The second classifier I will be exploring is Decision Trees. Again, ultimately the goal is to find the best estimator by finding the best hyperparameters through an extensive grid search. Five different hyperparameters will be looked at: criterion, splitter, max_depth, min_samples_split, and min_samples_leaf.\n",
    "\n",
    "Within this grid search all supported criterion and splitter algorithms will be explored. In the case of max_depth, we will explore certain multiples of 2 and \"None\" . This is due to the fact that increments of 1 or a small number wouldnt yield much varience and is not worth the computing power. The same can be said for min_samples_split and min_samples_leaf.\n",
    "\n",
    "The model evaluations will also comesfrom 5-fold cross validation. Since the dataset has a massive class imbalance, `StratifiedKFold` will be implemented once more. With the param_grid below a total of 378(3x2x7x3x3) models will be evaluated. In the same way for every max_depth specified there will be 54 models."
   ]
  },
  {
   "cell_type": "code",
   "execution_count": 18,
   "id": "8138c7ef-6f6e-4285-8f51-135dab4700a8",
   "metadata": {},
   "outputs": [
    {
     "name": "stdout",
     "output_type": "stream",
     "text": [
      "best parameters for decision trees is {'criterion': 'gini', 'max_depth': 1, 'min_samples_leaf': 1, 'min_samples_split': 2, 'splitter': 'best'}\n"
     ]
    }
   ],
   "source": [
    "# prepare param_grid for grid search\n",
    "param_grid = {'criterion': ['gini', 'entropy', 'log_loss'],\n",
    "              'splitter': ['best', 'random'],\n",
    "              'max_depth': [1,2,4,8,16,32,None],\n",
    "              'min_samples_split': [2,5,10],   \n",
    "              'min_samples_leaf': [1,5,10]}\n",
    "\n",
    "# define grid search\n",
    "DT_GSCV = GridSearchCV(DecisionTreeClassifier(), param_grid=param_grid, scoring='accuracy', n_jobs=6, cv=stratified_kf)\n",
    "\n",
    "# fit data to the model\n",
    "DT_GSCV.fit(X=creditdefault_train_X, y=creditdefault_train_y)\n",
    "print ('best parameters for decision trees is', DT_GSCV.best_params_) "
   ]
  },
  {
   "cell_type": "code",
   "execution_count": 23,
   "id": "ad96cb35-d0d6-4650-91ac-59de21aca427",
   "metadata": {},
   "outputs": [
    {
     "name": "stdout",
     "output_type": "stream",
     "text": [
      "dict_keys(['mean_fit_time', 'std_fit_time', 'mean_score_time', 'std_score_time', 'param_criterion', 'param_max_depth', 'param_min_samples_leaf', 'param_min_samples_split', 'param_splitter', 'params', 'split0_test_score', 'split1_test_score', 'split2_test_score', 'split3_test_score', 'split4_test_score', 'mean_test_score', 'std_test_score', 'rank_test_score'])\n"
     ]
    },
    {
     "data": {
      "text/html": [
       "<div>\n",
       "<style scoped>\n",
       "    .dataframe tbody tr th:only-of-type {\n",
       "        vertical-align: middle;\n",
       "    }\n",
       "\n",
       "    .dataframe tbody tr th {\n",
       "        vertical-align: top;\n",
       "    }\n",
       "\n",
       "    .dataframe thead th {\n",
       "        text-align: right;\n",
       "    }\n",
       "</style>\n",
       "<table border=\"1\" class=\"dataframe\">\n",
       "  <thead>\n",
       "    <tr style=\"text-align: right;\">\n",
       "      <th></th>\n",
       "      <th>param_max_depth</th>\n",
       "      <th>mean_test_score</th>\n",
       "    </tr>\n",
       "  </thead>\n",
       "  <tbody>\n",
       "    <tr>\n",
       "      <th>0</th>\n",
       "      <td>1</td>\n",
       "      <td>0.804886</td>\n",
       "    </tr>\n",
       "    <tr>\n",
       "      <th>1</th>\n",
       "      <td>2</td>\n",
       "      <td>0.810538</td>\n",
       "    </tr>\n",
       "    <tr>\n",
       "      <th>2</th>\n",
       "      <td>4</td>\n",
       "      <td>0.816370</td>\n",
       "    </tr>\n",
       "    <tr>\n",
       "      <th>3</th>\n",
       "      <td>8</td>\n",
       "      <td>0.813863</td>\n",
       "    </tr>\n",
       "    <tr>\n",
       "      <th>4</th>\n",
       "      <td>16</td>\n",
       "      <td>0.786169</td>\n",
       "    </tr>\n",
       "  </tbody>\n",
       "</table>\n",
       "</div>"
      ],
      "text/plain": [
       "   param_max_depth  mean_test_score\n",
       "0                1         0.804886\n",
       "1                2         0.810538\n",
       "2                4         0.816370\n",
       "3                8         0.813863\n",
       "4               16         0.786169"
      ]
     },
     "execution_count": 23,
     "metadata": {},
     "output_type": "execute_result"
    }
   ],
   "source": [
    "# save results object for further processing\n",
    "results = DT_GSCV.cv_results_ \n",
    "\n",
    "# print keys\n",
    "print(results.keys())\n",
    "\n",
    "# due to how huge the object is, converting it into a DF will make analysing easier\n",
    "results_df = pd.DataFrame(results)\n",
    "\n",
    "# Extract max_depth and accuracy for plots\n",
    "depth_vs_acc = results_df[['param_max_depth', 'mean_test_score']]\n",
    "\n",
    "# Group by max_depth and calculate the mean accuracy for each depth\n",
    "avg_acc_by_depth = depth_vs_acc.groupby('param_max_depth').mean().reset_index()\n",
    "# print('\\n', avg_acc_by_depth)\n",
    "avg_acc_by_depth.head()"
   ]
  },
  {
   "cell_type": "code",
   "execution_count": 24,
   "id": "2e41d8b2-a599-4172-a04d-ec9603a1d4e8",
   "metadata": {},
   "outputs": [
    {
     "data": {
      "image/png": "[encoded data removed]",
      "text/plain": [
       "<Figure size 640x480 with 1 Axes>"
      ]
     },
     "metadata": {},
     "output_type": "display_data"
    }
   ],
   "source": [
    "plot('Max_depth Vs. Accuracy', 'max_depth', 'accuracy', avg_acc_by_depth['param_max_depth'], avg_acc_by_depth['mean_test_score'])"
   ]
  },
  {
   "cell_type": "code",
   "execution_count": 25,
   "id": "b83d0a24-43d3-4ae1-a662-01ec5617f2bd",
   "metadata": {},
   "outputs": [
    {
     "name": "stdout",
     "output_type": "stream",
     "text": [
      "Minimum index: 2\n"
     ]
    }
   ],
   "source": [
    "# get index at which mean_test_score is greatest \n",
    "min_idx = np.argmax(avg_acc_by_depth['mean_test_score'])\n",
    "print('Minimum index:', min_idx)"
   ]
  },
  {
   "cell_type": "markdown",
   "id": "d2e54ab6-0094-49da-a528-7eff4dfea029",
   "metadata": {},
   "source": [
    "As illustrated on the plot above, the mean_test_score is greatest at 0.816195 when max_depth = 4. After this point, accuracy begins to gradually decreases (0.813870 at max_depth = 8 and 0.785796 at max_depth = 16). This could suggest that while the model grows more complex it fits to the training data to closely and overfits."
   ]
  },
  {
   "cell_type": "code",
   "execution_count": 19,
   "id": "bff99bec-aa07-48fe-a20b-7aeff216381c",
   "metadata": {},
   "outputs": [
    {
     "data": {
      "text/plain": [
       "['DT_GSCV_model.pkl']"
      ]
     },
     "execution_count": 19,
     "metadata": {},
     "output_type": "execute_result"
    }
   ],
   "source": [
    "# Save fitted GridSearchCV object\n",
    "joblib.dump(DT_GSCV, \"DT_GSCV_model.pkl\")"
   ]
  },
  {
   "cell_type": "code",
   "execution_count": 33,
   "id": "1416096e-372c-4608-8ada-fc86bd38a37a",
   "metadata": {},
   "outputs": [],
   "source": [
    "# load fitted GridSearchCV object\n",
    "DT_GSCV = joblib.load(\"DT_GSCV_model.pkl\")"
   ]
  },
  {
   "cell_type": "markdown",
   "id": "a26ddd90-71d9-472c-8c65-2dbb89ff73cf",
   "metadata": {},
   "source": [
    "### Final Model Selection and Evaluation "
   ]
  },
  {
   "cell_type": "code",
   "execution_count": 34,
   "id": "25786f43-d3bd-4a7a-a6fa-9d6224dfacec",
   "metadata": {},
   "outputs": [
    {
     "name": "stdout",
     "output_type": "stream",
     "text": [
      "Final accuracy score: 0.8172666666666667\n"
     ]
    }
   ],
   "source": [
    "# get best model from GridSearchCV\n",
    "DT_Best = DT_GSCV.best_estimator_\n",
    "\n",
    "# fit training full training data on it\n",
    "DT_Best.fit(creditdefault_train_X, creditdefault_train_y)\n",
    "\n",
    "# create prediction on test y\n",
    "predictions = DT_Best.predict(creditdefault_test_X)\n",
    "\n",
    "# compute accuracy between predictions and true labels\n",
    "accuracy = accuracy_score(creditdefault_test_y, predictions)\n",
    "\n",
    "# print final accuracy score\n",
    "print('Final accuracy score:', accuracy)"
   ]
  },
  {
   "cell_type": "markdown",
   "id": "8c4a3e5e-fba2-422e-88ed-0ade28777cbf",
   "metadata": {},
   "source": [
    "## Model 3: Xgboost"
   ]
  },
  {
   "cell_type": "markdown",
   "id": "6bd9526e-55ed-4871-bd8a-01ca77029a40",
   "metadata": {},
   "source": [
    "### Hyperparameter Tuning with Grid Search\n",
    "The last and final model I will be implementing grid search cross-validation on is Xgboost. Five different hyperparameters will be looked at: n_estimators, learning_rate, subsample, colsample_bytree, and max_depth."
   ]
  },
  {
   "cell_type": "code",
   "execution_count": 41,
   "id": "cb02307d-9777-4037-8367-e84a9b5a5fa3",
   "metadata": {},
   "outputs": [
    {
     "name": "stdout",
     "output_type": "stream",
     "text": [
      "best parameters for xgboost is {'colsample_bytree': 1.0, 'learning_rate': 0.1, 'max_depth': 3, 'n_estimators': 50, 'subsample': 0.8, 'verbosity': 0}\n"
     ]
    }
   ],
   "source": [
    "# prepare param_grid for grid search\n",
    "param_grid = {\n",
    "    'n_estimators': [50, 100, 200],\n",
    "    'max_depth': [3, 6, 9],\n",
    "    'learning_rate': [0.01, 0.1, 0.3],\n",
    "    'subsample': [0.8, 1.0],\n",
    "    'colsample_bytree': [0.8, 1.0],\n",
    "    'verbosity': [0]\n",
    "}\n",
    "\n",
    "# define grid search\n",
    "XGB_GSCV = GridSearchCV(xgboost.XGBClassifier(), param_grid=param_grid, scoring='accuracy', n_jobs=6, cv=stratified_kf)\n",
    "\n",
    "# fit data to the model\n",
    "XGB_GSCV.fit(X=creditdefault_train_X, y=creditdefault_train_y)\n",
    "print ('best parameters for xgboost is', XGB_GSCV.best_params_) "
   ]
  },
  {
   "cell_type": "code",
   "execution_count": 42,
   "id": "638fa52b-bc4c-4c2b-b85f-2a6697770047",
   "metadata": {},
   "outputs": [
    {
     "data": {
      "text/plain": [
       "['XGB_GSCV_model.pkl']"
      ]
     },
     "execution_count": 42,
     "metadata": {},
     "output_type": "execute_result"
    }
   ],
   "source": [
    "# Save fitted GridSearchCV object\n",
    "joblib.dump(XGB_GSCV, \"XGB_GSCV_model.pkl\")"
   ]
  },
  {
   "cell_type": "code",
   "execution_count": 43,
   "id": "abb39a08-6cbb-4f8b-8e39-c17e82ee0a40",
   "metadata": {},
   "outputs": [],
   "source": [
    "# load fitted GridSearchCV object\n",
    "XGB_GSCV = joblib.load(\"XGB_GSCV_model.pkl\")"
   ]
  },
  {
   "cell_type": "code",
   "execution_count": 60,
   "id": "ceaa9792-e51d-405d-9500-a6abda98b1f2",
   "metadata": {},
   "outputs": [
    {
     "name": "stdout",
     "output_type": "stream",
     "text": [
      "dict_keys(['mean_fit_time', 'std_fit_time', 'mean_score_time', 'std_score_time', 'param_colsample_bytree', 'param_learning_rate', 'param_max_depth', 'param_n_estimators', 'param_subsample', 'param_verbosity', 'params', 'split0_test_score', 'split1_test_score', 'split2_test_score', 'split3_test_score', 'split4_test_score', 'mean_test_score', 'std_test_score', 'rank_test_score'])\n"
     ]
    }
   ],
   "source": [
    "# save results object for further processing\n",
    "results = XGB_GSCV.cv_results_ \n",
    "\n",
    "# print keys\n",
    "print(results.keys())\n",
    "\n",
    "# Extract n_estimators and accuracy scores\n",
    "n_estimators = XGB_GSCV.cv_results_['param_n_estimators']\n",
    "accuracy = XGB_GSCV.cv_results_['mean_test_score']\n",
    "\n",
    "# Sort by n_estimators for a clean plot\n",
    "sorted_indices = n_estimators.argsort()\n",
    "n_estimators = n_estimators[sorted_indices]\n",
    "accuracy = accuracy[sorted_indices]"
   ]
  },
  {
   "cell_type": "code",
   "execution_count": 61,
   "id": "81cf4b39-504c-42b3-b528-12935aa7ba04",
   "metadata": {},
   "outputs": [
    {
     "data": {
      "image/png": "[encoded data removed]",
      "text/plain": [
       "<Figure size 640x480 with 1 Axes>"
      ]
     },
     "metadata": {},
     "output_type": "display_data"
    }
   ],
   "source": [
    "plot('n_estimators vs Accuracy', 'Number of Estimators','Accuracy',n_estimators, accuracy)"
   ]
  },
  {
   "cell_type": "markdown",
   "id": "265a58de-b829-462b-9782-516358c42fab",
   "metadata": {},
   "source": [
    "The plot above illustrates that usually with increasing the n_estimators parameters, accuracy in turn increases. However, that is not always the case considering the varience shown. In any case, the final value for n_estimators is 50 for the best model produced via grid search."
   ]
  },
  {
   "cell_type": "markdown",
   "id": "cad7220d-7668-4d8d-addb-ed806acb0c82",
   "metadata": {},
   "source": [
    "### Final Model Selection and Evaluation "
   ]
  },
  {
   "cell_type": "code",
   "execution_count": 44,
   "id": "12336114-8574-4609-9023-392e2acb5dc0",
   "metadata": {},
   "outputs": [
    {
     "name": "stdout",
     "output_type": "stream",
     "text": [
      "Final accuracy score: 0.8196666666666667\n"
     ]
    }
   ],
   "source": [
    "# get best model from GridSearchCV\n",
    "XGB_Best = XGB_GSCV.best_estimator_\n",
    "\n",
    "# fit training full training data on it\n",
    "XGB_Best.fit(creditdefault_train_X, creditdefault_train_y)\n",
    "\n",
    "# create prediction on test y\n",
    "predictions = XGB_Best.predict(creditdefault_test_X)\n",
    "\n",
    "# compute accuracy between predictions and true labels\n",
    "accuracy = accuracy_score(creditdefault_test_y, predictions)\n",
    "\n",
    "# print final accuracy score\n",
    "print('Final accuracy score:', accuracy)\n",
    "# scores(creditdefault_test_y, predictions)"
   ]
  },
  {
   "cell_type": "markdown",
   "id": "acae40cb-69b3-4a8e-b3e6-54274b2e5fd5",
   "metadata": {},
   "source": [
    "## Conclusion"
   ]
  },
  {
   "cell_type": "markdown",
   "id": "2e0def37-fb12-4af4-8bd2-76b0ed170aed",
   "metadata": {},
   "source": [
    "| Model                  | Accuracy Score     |\n",
    "|------------------------|--------------------|\n",
    "| K-Nearest Neighbour    | 0.7766             |\n",
    "| Decision Tree Classifier | 0.8173             |\n",
    "| XGBoost                | 0.8197             |\n"
   ]
  },
  {
   "cell_type": "markdown",
   "id": "9f44dfa2-afbc-4386-86f9-f96f4f3507e0",
   "metadata": {},
   "source": [
    "With grid search we have implemented three different classifiers: K-Nearest Neighbour, Decision Tree Classifier, and XGBoost. Although most models came close in terms of accuracy, XGBoost achieved the highest accuracy of 0.8197, making it the best-performing model."
   ]
  }
 ],
 "metadata": {
  "kernelspec": {
   "display_name": "Python 3 (ipykernel)",
   "language": "python",
   "name": "python3"
  },
  "language_info": {
   "codemirror_mode": {
    "name": "ipython",
    "version": 3
   },
   "file_extension": ".py",
   "mimetype": "text/x-python",
   "name": "python",
   "nbconvert_exporter": "python",
   "pygments_lexer": "ipython3",
   "version": "3.11.5"
  }
 },
 "nbformat": 4,
 "nbformat_minor": 5
}
