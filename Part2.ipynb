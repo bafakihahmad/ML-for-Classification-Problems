{
 "cells": [
  {
   "cell_type": "markdown",
   "id": "358ca590-eb38-4cd2-aaac-5dc06c48f597",
   "metadata": {},
   "source": [
    "# Data Mining (2024-2025): Part 2 - Credit Card Default Classification\n",
    "by Ahmad Bafakih <br>\n",
    "Student ID: 33766650 <br>\n",
    "I worked and submitted alone"
   ]
  },
  {
   "cell_type": "code",
   "execution_count": 2,
   "id": "d3a884e2-c548-4619-a48a-c12323c28602",
   "metadata": {},
   "outputs": [],
   "source": [
    "# import required packages\n",
    "import pandas as pd\n",
    "import numpy as np\n",
    "import matplotlib.pyplot as plt\n",
    "import sklearn\n",
    "from sklearn.neighbors import KNeighborsClassifier\n",
    "from sklearn.tree import DecisionTreeClassifier\n",
    "from sklearn.metrics import accuracy_score, recall_score, precision_score, f1_score\n",
    "from sklearn.model_selection import cross_validate, StratifiedKFold, GridSearchCV\n",
    "import joblib"
   ]
  },
  {
   "cell_type": "markdown",
   "id": "8f2cfd70-55ab-417a-870c-e42c2fa0aa0c",
   "metadata": {},
   "source": [
    "## Dataset Exploration and Preparation"
   ]
  },
  {
   "cell_type": "code",
   "execution_count": 2,
   "id": "5c117250-77c5-4bc1-8962-25c8ec87abf6",
   "metadata": {},
   "outputs": [
    {
     "name": "stdout",
     "output_type": "stream",
     "text": [
      "Train dataset shape: (15000, 24)\n",
      "Test dataset shape: (15000, 24)\n"
     ]
    },
    {
     "data": {
      "text/html": [
       "<div>\n",
       "<style scoped>\n",
       "    .dataframe tbody tr th:only-of-type {\n",
       "        vertical-align: middle;\n",
       "    }\n",
       "\n",
       "    .dataframe tbody tr th {\n",
       "        vertical-align: top;\n",
       "    }\n",
       "\n",
       "    .dataframe thead th {\n",
       "        text-align: right;\n",
       "    }\n",
       "</style>\n",
       "<table border=\"1\" class=\"dataframe\">\n",
       "  <thead>\n",
       "    <tr style=\"text-align: right;\">\n",
       "      <th></th>\n",
       "      <th>Y</th>\n",
       "      <th>X1</th>\n",
       "      <th>X2</th>\n",
       "      <th>X3</th>\n",
       "      <th>X4</th>\n",
       "      <th>X5</th>\n",
       "      <th>X6</th>\n",
       "      <th>X7</th>\n",
       "      <th>X8</th>\n",
       "      <th>X9</th>\n",
       "      <th>...</th>\n",
       "      <th>X14</th>\n",
       "      <th>X15</th>\n",
       "      <th>X16</th>\n",
       "      <th>X17</th>\n",
       "      <th>X18</th>\n",
       "      <th>X19</th>\n",
       "      <th>X20</th>\n",
       "      <th>X21</th>\n",
       "      <th>X22</th>\n",
       "      <th>X23</th>\n",
       "    </tr>\n",
       "  </thead>\n",
       "  <tbody>\n",
       "    <tr>\n",
       "      <th>0</th>\n",
       "      <td>1</td>\n",
       "      <td>20000</td>\n",
       "      <td>2</td>\n",
       "      <td>2</td>\n",
       "      <td>1</td>\n",
       "      <td>24</td>\n",
       "      <td>2</td>\n",
       "      <td>2</td>\n",
       "      <td>-1</td>\n",
       "      <td>-1</td>\n",
       "      <td>...</td>\n",
       "      <td>689</td>\n",
       "      <td>0</td>\n",
       "      <td>0</td>\n",
       "      <td>0</td>\n",
       "      <td>0</td>\n",
       "      <td>689</td>\n",
       "      <td>0</td>\n",
       "      <td>0</td>\n",
       "      <td>0</td>\n",
       "      <td>0</td>\n",
       "    </tr>\n",
       "    <tr>\n",
       "      <th>1</th>\n",
       "      <td>0</td>\n",
       "      <td>50000</td>\n",
       "      <td>2</td>\n",
       "      <td>2</td>\n",
       "      <td>1</td>\n",
       "      <td>37</td>\n",
       "      <td>0</td>\n",
       "      <td>0</td>\n",
       "      <td>0</td>\n",
       "      <td>0</td>\n",
       "      <td>...</td>\n",
       "      <td>49291</td>\n",
       "      <td>28314</td>\n",
       "      <td>28959</td>\n",
       "      <td>29547</td>\n",
       "      <td>2000</td>\n",
       "      <td>2019</td>\n",
       "      <td>1200</td>\n",
       "      <td>1100</td>\n",
       "      <td>1069</td>\n",
       "      <td>1000</td>\n",
       "    </tr>\n",
       "    <tr>\n",
       "      <th>2</th>\n",
       "      <td>0</td>\n",
       "      <td>50000</td>\n",
       "      <td>1</td>\n",
       "      <td>2</td>\n",
       "      <td>1</td>\n",
       "      <td>57</td>\n",
       "      <td>-1</td>\n",
       "      <td>0</td>\n",
       "      <td>-1</td>\n",
       "      <td>0</td>\n",
       "      <td>...</td>\n",
       "      <td>35835</td>\n",
       "      <td>20940</td>\n",
       "      <td>19146</td>\n",
       "      <td>19131</td>\n",
       "      <td>2000</td>\n",
       "      <td>36681</td>\n",
       "      <td>10000</td>\n",
       "      <td>9000</td>\n",
       "      <td>689</td>\n",
       "      <td>679</td>\n",
       "    </tr>\n",
       "    <tr>\n",
       "      <th>3</th>\n",
       "      <td>0</td>\n",
       "      <td>50000</td>\n",
       "      <td>1</td>\n",
       "      <td>1</td>\n",
       "      <td>2</td>\n",
       "      <td>37</td>\n",
       "      <td>0</td>\n",
       "      <td>0</td>\n",
       "      <td>0</td>\n",
       "      <td>0</td>\n",
       "      <td>...</td>\n",
       "      <td>57608</td>\n",
       "      <td>19394</td>\n",
       "      <td>19619</td>\n",
       "      <td>20024</td>\n",
       "      <td>2500</td>\n",
       "      <td>1815</td>\n",
       "      <td>657</td>\n",
       "      <td>1000</td>\n",
       "      <td>1000</td>\n",
       "      <td>800</td>\n",
       "    </tr>\n",
       "    <tr>\n",
       "      <th>4</th>\n",
       "      <td>0</td>\n",
       "      <td>500000</td>\n",
       "      <td>1</td>\n",
       "      <td>1</td>\n",
       "      <td>2</td>\n",
       "      <td>29</td>\n",
       "      <td>0</td>\n",
       "      <td>0</td>\n",
       "      <td>0</td>\n",
       "      <td>0</td>\n",
       "      <td>...</td>\n",
       "      <td>445007</td>\n",
       "      <td>542653</td>\n",
       "      <td>483003</td>\n",
       "      <td>473944</td>\n",
       "      <td>55000</td>\n",
       "      <td>40000</td>\n",
       "      <td>38000</td>\n",
       "      <td>20239</td>\n",
       "      <td>13750</td>\n",
       "      <td>13770</td>\n",
       "    </tr>\n",
       "  </tbody>\n",
       "</table>\n",
       "<p>5 rows × 24 columns</p>\n",
       "</div>"
      ],
      "text/plain": [
       "   Y      X1  X2  X3  X4  X5  X6  X7  X8  X9  ...     X14     X15     X16  \\\n",
       "0  1   20000   2   2   1  24   2   2  -1  -1  ...     689       0       0   \n",
       "1  0   50000   2   2   1  37   0   0   0   0  ...   49291   28314   28959   \n",
       "2  0   50000   1   2   1  57  -1   0  -1   0  ...   35835   20940   19146   \n",
       "3  0   50000   1   1   2  37   0   0   0   0  ...   57608   19394   19619   \n",
       "4  0  500000   1   1   2  29   0   0   0   0  ...  445007  542653  483003   \n",
       "\n",
       "      X17    X18    X19    X20    X21    X22    X23  \n",
       "0       0      0    689      0      0      0      0  \n",
       "1   29547   2000   2019   1200   1100   1069   1000  \n",
       "2   19131   2000  36681  10000   9000    689    679  \n",
       "3   20024   2500   1815    657   1000   1000    800  \n",
       "4  473944  55000  40000  38000  20239  13750  13770  \n",
       "\n",
       "[5 rows x 24 columns]"
      ]
     },
     "execution_count": 2,
     "metadata": {},
     "output_type": "execute_result"
    }
   ],
   "source": [
    "# load in train and test dataset \n",
    "creditdefault_train = pd.read_csv('./creditdefault_dataset/creditdefault_train.csv')\n",
    "creditdefault_test = pd.read_csv('./creditdefault_dataset/creditdefault_test.csv')\n",
    "\n",
    "# print dataset sizes\n",
    "print('Train dataset shape:', creditdefault_train.shape)\n",
    "print('Test dataset shape:', creditdefault_test.shape)\n",
    "\n",
    "# show first 5 samples\n",
    "creditdefault_train.head()"
   ]
  },
  {
   "cell_type": "markdown",
   "id": "85b435d9-2280-4863-8387-411139c2ab05",
   "metadata": {},
   "source": [
    "Check train and test dataset for any null values which would hinder the training process. Since it does not, imputing will not be necessary as there are no values to fill."
   ]
  },
  {
   "cell_type": "code",
   "execution_count": 3,
   "id": "271da6de-2264-418d-9382-8f1e6b9b1dc9",
   "metadata": {},
   "outputs": [
    {
     "data": {
      "text/plain": [
       "0"
      ]
     },
     "execution_count": 3,
     "metadata": {},
     "output_type": "execute_result"
    }
   ],
   "source": [
    "creditdefault_train.isnull().sum().sum()"
   ]
  },
  {
   "cell_type": "code",
   "execution_count": 4,
   "id": "c819c253-bd89-4530-a8da-950e83ca8065",
   "metadata": {},
   "outputs": [
    {
     "data": {
      "text/plain": [
       "0"
      ]
     },
     "execution_count": 4,
     "metadata": {},
     "output_type": "execute_result"
    }
   ],
   "source": [
    "creditdefault_test.isnull().sum().sum()"
   ]
  },
  {
   "cell_type": "markdown",
   "id": "f30e3e3b-c29c-4931-909b-c6bd4bd48d47",
   "metadata": {},
   "source": [
    "Considering this is a binary classification task, it is necessary to check for class imbalance to achieve the best model possible. As you can see below, there is a huge class imbalance between defaulters and non-defaulters. Techniques like stratified samlping will have to be implemented to counter this."
   ]
  },
  {
   "cell_type": "code",
   "execution_count": 5,
   "id": "19a6c455-4a4f-45f0-812d-5baf9260c6b2",
   "metadata": {},
   "outputs": [
    {
     "name": "stdout",
     "output_type": "stream",
     "text": [
      "Y\n",
      "0    11682\n",
      "1     3318\n",
      "Name: count, dtype: int64\n",
      "Y\n",
      "0    11682\n",
      "1     3318\n",
      "Name: count, dtype: int64\n"
     ]
    }
   ],
   "source": [
    "print(creditdefault_train['Y'].value_counts())\n",
    "print(creditdefault_test['Y'].value_counts())"
   ]
  },
  {
   "cell_type": "code",
   "execution_count": 6,
   "id": "862e9b54-9074-4784-a359-16cab300053f",
   "metadata": {},
   "outputs": [],
   "source": [
    "# Data splitting\n",
    "# train splits\n",
    "creditdefault_train_y = creditdefault_train['Y']\n",
    "creditdefault_train_X = creditdefault_train.drop('Y', axis=1)\n",
    "\n",
    "# test splits\n",
    "creditdefault_test_y = creditdefault_test['Y']\n",
    "creditdefault_test_X = creditdefault_test.drop('Y', axis=1)"
   ]
  },
  {
   "cell_type": "code",
   "execution_count": 7,
   "id": "0eecfc1c-03fa-43f3-8ef4-a83cd9bacdeb",
   "metadata": {},
   "outputs": [
    {
     "name": "stdout",
     "output_type": "stream",
     "text": [
      "creditdefault_train_X shape: (15000, 23)\n",
      "creditdefault_train_y shape: (15000,) \n",
      "\n",
      "creditdefault_test_X shape: (15000, 23)\n",
      "creditdefault_test_y shape: (15000,)\n"
     ]
    }
   ],
   "source": [
    "print('creditdefault_train_X shape:', creditdefault_train_X.shape)\n",
    "print('creditdefault_train_y shape:', creditdefault_train_y.shape, '\\n')\n",
    "print('creditdefault_test_X shape:', creditdefault_test_X.shape)\n",
    "print('creditdefault_test_y shape:', creditdefault_test_y.shape)"
   ]
  },
  {
   "cell_type": "code",
   "execution_count": 8,
   "id": "8560b7da-b878-4536-83e4-940d6fc0a35f",
   "metadata": {},
   "outputs": [],
   "source": [
    "# maybe scale here"
   ]
  },
  {
   "cell_type": "markdown",
   "id": "0db9c440-fe21-455a-acf2-8e0af7e41f3a",
   "metadata": {},
   "source": [
    "## Build Functions"
   ]
  },
  {
   "cell_type": "code",
   "execution_count": 45,
   "id": "21dee1db-e910-40b9-977d-13fc8faecf60",
   "metadata": {},
   "outputs": [],
   "source": [
    "def plot(title, xlabel, ylabel, x, y):\n",
    "    plt.clf()\n",
    "    plt.title(title)\n",
    "    plt.xlabel(xlabel)\n",
    "    plt.ylabel(ylabel)\n",
    "    plt.plot(x, y)\n",
    "    plt.show()"
   ]
  },
  {
   "cell_type": "markdown",
   "id": "c101fadb-ae72-4650-9e3e-29f0078a4cc7",
   "metadata": {},
   "source": [
    "## Model 1: K-nearest neighbour"
   ]
  },
  {
   "cell_type": "markdown",
   "id": "d68bbd85-a18a-404d-adc7-419ac932d4fc",
   "metadata": {},
   "source": [
    "### Hyperparameter Tuning with Grid Search"
   ]
  },
  {
   "cell_type": "markdown",
   "id": "5c912ad0-06f2-4c2a-a951-bcc8d44df7e7",
   "metadata": {},
   "source": [
    "With the data clean and ready for learning, we can now begin building predictive models. The first classifier I will be implementing will be K-nearest neighbour. Ultimately, the goal is to build the best predictive model using cross-validation; however, a few steps is necessary before we can implement cross-validation and do a final model selection and evaluation.\n",
    "\n",
    "First, the initial experimentation will consist of using `GridSearchCV` to train multiple models with different values of `n_neighbours` and `power q`. I will be exploring 2 hyperparamter settings: `n_neigbors` and `p`. Both will be experimeted with values from 1 through 10 meaning there will be (10x10) possible hyperparameter settings and (10x10x5) model evaluations.\n",
    "\n",
    "The model evaluations comes from 5-fold cross validation. Since the dataset has a massive class imbalance, `StratifiedKFold` will be implemented with the grid search."
   ]
  },
  {
   "cell_type": "code",
   "execution_count": 9,
   "id": "cd00b11e-9983-4029-b9af-119e9897ee15",
   "metadata": {},
   "outputs": [
    {
     "name": "stdout",
     "output_type": "stream",
     "text": [
      "best weights and n_neighbor counts is {'n_neighbors': 10, 'p': 1}\n"
     ]
    }
   ],
   "source": [
    "# prepare param_grid for grid search\n",
    "param_grid = {'n_neighbors': list(range(1, 11)),\n",
    "               'p': list(range(1, 11))}\n",
    "\n",
    "# Define Stratified K-Fold (5 splits)\n",
    "stratified_kf = StratifiedKFold(n_splits=5, shuffle=True, random_state=42)\n",
    "\n",
    "# define grid search\n",
    "KNN_GSCV = GridSearchCV(KNeighborsClassifier(), param_grid=param_grid, scoring='accuracy', n_jobs=6, cv=stratified_kf)\n",
    "\n",
    "# fit data to the model\n",
    "KNN_GSCV.fit(X=creditdefault_train_X, y=creditdefault_train_y)\n",
    "print ('best parameters for k-nearest neighbour is', KNN_GSCV.best_params_) "
   ]
  },
  {
   "cell_type": "code",
   "execution_count": 40,
   "id": "4590c4bb-9685-459d-9480-47f5ffa47169",
   "metadata": {},
   "outputs": [
    {
     "name": "stdout",
     "output_type": "stream",
     "text": [
      "dict_keys(['mean_fit_time', 'std_fit_time', 'mean_score_time', 'std_score_time', 'param_n_neighbors', 'param_p', 'params', 'split0_test_score', 'split1_test_score', 'split2_test_score', 'split3_test_score', 'split4_test_score', 'mean_test_score', 'std_test_score', 'rank_test_score'])\n"
     ]
    }
   ],
   "source": [
    "# save results object for further processing\n",
    "results = KNN_GSCV.cv_results_\n",
    "# print keys\n",
    "print(results.keys())\n",
    "# isolate results for n_neigbors = 1 and 10 for graphing\n",
    "results_n1 = results['mean_test_score'][:10]\n",
    "results_n10 = results['mean_test_score'][-10:]"
   ]
  },
  {
   "cell_type": "code",
   "execution_count": 49,
   "id": "bf493af3-0e82-45c7-b739-6b01fe2b505b",
   "metadata": {},
   "outputs": [
    {
     "data": {
      "image/png": "[encoded data removed]",
      "text/plain": [
       "<Figure size 640x480 with 1 Axes>"
      ]
     },
     "metadata": {},
     "output_type": "display_data"
    }
   ],
   "source": [
    "# x-axis values with respect to power of Q's experimented on\n",
    "plot_x = list(range(1, 11))\n",
    "# plot charts\n",
    "plot('power Q Vs. accuracy (n_neighbors=1)', 'power Q', 'accuracy', plot_x, results_n1)"
   ]
  },
  {
   "cell_type": "code",
   "execution_count": 44,
   "id": "72e20960-251d-4b38-a677-60c05644b2c1",
   "metadata": {},
   "outputs": [
    {
     "data": {
      "image/png": "[encoded data removed]",
      "text/plain": [
       "<Figure size 640x480 with 1 Axes>"
      ]
     },
     "metadata": {},
     "output_type": "display_data"
    }
   ],
   "source": [
    "plot('power Q Vs. accuracy (n_neighbors=10)', 'power Q', 'accuracy', plot_x, results_n10)"
   ]
  },
  {
   "cell_type": "markdown",
   "id": "78d8dbdc-4c70-459a-aba9-5745bd9f48a5",
   "metadata": {},
   "source": [
    "The graphs above show that in both models, n_neighbors=1 and n_neighbors=10, the accuracy at its highest is at power Q=1. As Q increases, accuracy decreases and achieves its lowest scores between Q=4 and Q=9. This means the manhatten distance is the best distance evaluater for both cases."
   ]
  },
  {
   "cell_type": "code",
   "execution_count": 4,
   "id": "bee2e0a9-a7ad-4837-8a1b-08a5d7023655",
   "metadata": {},
   "outputs": [],
   "source": [
    "# Save fitted GridSearchCV object\n",
    "#joblib.dump(KNN_GSCV, \"KNN_GSCV_model.pkl\")"
   ]
  },
  {
   "cell_type": "markdown",
   "id": "1119fa01-522d-4fd6-85f5-bdf3f1b18b2c",
   "metadata": {},
   "source": [
    "### Final Model Selection and Evaluation "
   ]
  },
  {
   "cell_type": "markdown",
   "id": "40c795f0-4524-4123-9057-b8523c4112a2",
   "metadata": {},
   "source": [
    "Since we now know the best parameters for the knn model, we can train the best model once more on the full train dataset and evaluate it on the train set."
   ]
  },
  {
   "cell_type": "code",
   "execution_count": 47,
   "id": "4ca8bd8f-74f4-4821-b220-3f464e176c39",
   "metadata": {},
   "outputs": [
    {
     "name": "stdout",
     "output_type": "stream",
     "text": [
      "Final accuracy score: 0.7766\n"
     ]
    }
   ],
   "source": [
    "# get best model from GridSearchCV\n",
    "KNN_best = KNN_GSCV.best_estimator_\n",
    "\n",
    "# fit training full training data on it\n",
    "KNN_best.fit(creditdefault_train_X, creditdefault_train_y)\n",
    "\n",
    "# create prediction on test y\n",
    "predictions = KNN_best.predict(creditdefault_test_X)\n",
    "\n",
    "# compute accuracy between predictions and true labels\n",
    "accuracy = accuracy_score(creditdefault_test_y, predictions)\n",
    "\n",
    "# print final accuracy score\n",
    "print('Final accuracy score:', accuracy)"
   ]
  },
  {
   "cell_type": "markdown",
   "id": "e56d0468-cc86-456e-b73e-c78f66fb6fa7",
   "metadata": {},
   "source": [
    "## Model 2: Decision Trees"
   ]
  },
  {
   "cell_type": "markdown",
   "id": "e6fe4852-7508-4629-9b3c-58b382f752e8",
   "metadata": {},
   "source": [
    "### Hyperparameter Tuning with Grid Search"
   ]
  },
  {
   "cell_type": "markdown",
   "id": "660f3f56-5633-427a-9d12-9463c6c75e30",
   "metadata": {},
   "source": [
    "The second classifier I will be exploring is Decision Trees. Again, ultimately the goal is to find the best estimator by finding the best hyperparameters through an extensive grid search. Five different hyperparameters will be looked at: criterion, splitter, max_depth, min_samples_split, and min_samples_leaf.\n",
    "\n",
    "Within this grid search all supported criterion and splitter algorithms will be looked at. In the case of max_depth, we will explore certain multiples of 2 and \"None\" . This is due to the fact that increments of 1 or a small number wouldnt yield much varience and is not worth the computing power. The same can be said for min_samples_split and min_samples_leaf.\n",
    "\n",
    "The model evaluations will also comesfrom 5-fold cross validation. Since the dataset has a massive class imbalance, `StratifiedKFold` will be implemented once more."
   ]
  },
  {
   "cell_type": "code",
   "execution_count": null,
   "id": "8138c7ef-6f6e-4285-8f51-135dab4700a8",
   "metadata": {},
   "outputs": [],
   "source": [
    "# prepare param_grid for grid search\n",
    "param_grid = {'criterion': ['gini', 'entropy', 'log_loss'],\n",
    "              'splitter': ['best', 'random'],\n",
    "              'max_depth': [1, 2, 4, 8, 16, 32, None],\n",
    "              'min_samples_split': [2, 5, 10],   \n",
    "              'min_samples_leaf': [1, 5, 10]}\n",
    "\n",
    "# Define Stratified K-Fold (5 splits)\n",
    "# stratified_kf = StratifiedKFold(n_splits=5, shuffle=True, random_state=42)\n",
    "\n",
    "# define grid search\n",
    "DT_GSCV = GridSearchCV(DecisionTreeClassifier(), param_grid=param_grid, scoring='accuracy', n_jobs=6, cv=stratified_kf)\n",
    "\n",
    "# fit data to the model\n",
    "DT_GSCV.fit(X=creditdefault_train_X, y=creditdefault_train_y)\n",
    "print ('best parameters for decision trees is', DT_GSCV.best_params_) "
   ]
  },
  {
   "cell_type": "code",
   "execution_count": null,
   "id": "ad96cb35-d0d6-4650-91ac-59de21aca427",
   "metadata": {},
   "outputs": [],
   "source": [
    "# save results object for further processing\n",
    "results = DT_GSCV.cv_results_\n",
    "# print keys\n",
    "print(results.keys())"
   ]
  },
  {
   "cell_type": "markdown",
   "id": "a26ddd90-71d9-472c-8c65-2dbb89ff73cf",
   "metadata": {},
   "source": [
    "### Final Model Selection and Evaluation "
   ]
  },
  {
   "cell_type": "code",
   "execution_count": null,
   "id": "25786f43-d3bd-4a7a-a6fa-9d6224dfacec",
   "metadata": {},
   "outputs": [],
   "source": [
    "# get best model from GridSearchCV\n",
    "DT_GSCV = DT_GSCV.best_estimator_\n",
    "\n",
    "# fit training full training data on it\n",
    "DT_GSCV.fit(creditdefault_train_X, creditdefault_train_y)\n",
    "\n",
    "# create prediction on test y\n",
    "predictions = DT_GSCV.predict(creditdefault_test_X)\n",
    "\n",
    "# compute accuracy between predictions and true labels\n",
    "accuracy = accuracy_score(creditdefault_test_y, predictions)\n",
    "\n",
    "# print final accuracy score\n",
    "print('Final accuracy score:', accuracy)"
   ]
  },
  {
   "cell_type": "markdown",
   "id": "8c4a3e5e-fba2-422e-88ed-0ade28777cbf",
   "metadata": {},
   "source": [
    "## Model 3: Xgboost"
   ]
  },
  {
   "cell_type": "code",
   "execution_count": null,
   "id": "cb02307d-9777-4037-8367-e84a9b5a5fa3",
   "metadata": {},
   "outputs": [],
   "source": []
  }
 ],
 "metadata": {
  "kernelspec": {
   "display_name": "Python 3 (ipykernel)",
   "language": "python",
   "name": "python3"
  },
  "language_info": {
   "codemirror_mode": {
    "name": "ipython",
    "version": 3
   },
   "file_extension": ".py",
   "mimetype": "text/x-python",
   "name": "python",
   "nbconvert_exporter": "python",
   "pygments_lexer": "ipython3",
   "version": "3.11.5"
  }
 },
 "nbformat": 4,
 "nbformat_minor": 5
}
