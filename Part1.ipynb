{
 "cells": [
  {
   "cell_type": "markdown",
   "id": "c3873c65-0617-4086-9a88-66e21c920cc1",
   "metadata": {},
   "source": [
    "# Data Mining (2024-2025): Part 1 - Sonar Object Classification\n",
    "by Ahmad Bafakih <br>"
   ]
  },
  {
   "cell_type": "code",
   "execution_count": 1,
   "id": "19992128-82d3-4500-862c-b5d64929e46c",
   "metadata": {},
   "outputs": [],
   "source": [
    "# import required packages\n",
    "import pandas as pd\n",
    "import numpy as np\n",
    "import matplotlib.pyplot as plt\n",
    "import sklearn\n",
    "from sklearn.metrics import accuracy_score, recall_score, precision_score, f1_score"
   ]
  },
  {
   "cell_type": "markdown",
   "id": "59f52ae6-ef60-4619-8750-dbf4e1d594c3",
   "metadata": {},
   "source": [
    "## Dataset Exploration and Preparation"
   ]
  },
  {
   "cell_type": "code",
   "execution_count": 30,
   "id": "47bca7b6-ccda-4cb8-8041-5f9d17fe5eae",
   "metadata": {},
   "outputs": [
    {
     "name": "stdout",
     "output_type": "stream",
     "text": [
      "Train dataset shape: (139, 61)\n",
      "Test dataset shape: (69, 61)\n"
     ]
    },
    {
     "data": {
      "text/html": [
       "<div>\n",
       "<style scoped>\n",
       "    .dataframe tbody tr th:only-of-type {\n",
       "        vertical-align: middle;\n",
       "    }\n",
       "\n",
       "    .dataframe tbody tr th {\n",
       "        vertical-align: top;\n",
       "    }\n",
       "\n",
       "    .dataframe thead th {\n",
       "        text-align: right;\n",
       "    }\n",
       "</style>\n",
       "<table border=\"1\" class=\"dataframe\">\n",
       "  <thead>\n",
       "    <tr style=\"text-align: right;\">\n",
       "      <th></th>\n",
       "      <th>A1</th>\n",
       "      <th>A2</th>\n",
       "      <th>A3</th>\n",
       "      <th>A4</th>\n",
       "      <th>A5</th>\n",
       "      <th>A6</th>\n",
       "      <th>A7</th>\n",
       "      <th>A8</th>\n",
       "      <th>A9</th>\n",
       "      <th>A10</th>\n",
       "      <th>...</th>\n",
       "      <th>A52</th>\n",
       "      <th>A53</th>\n",
       "      <th>A54</th>\n",
       "      <th>A55</th>\n",
       "      <th>A56</th>\n",
       "      <th>A57</th>\n",
       "      <th>A58</th>\n",
       "      <th>A59</th>\n",
       "      <th>A60</th>\n",
       "      <th>Class</th>\n",
       "    </tr>\n",
       "  </thead>\n",
       "  <tbody>\n",
       "    <tr>\n",
       "      <th>0</th>\n",
       "      <td>0.0079</td>\n",
       "      <td>0.0086</td>\n",
       "      <td>0.0055</td>\n",
       "      <td>0.0250</td>\n",
       "      <td>0.0344</td>\n",
       "      <td>0.0546</td>\n",
       "      <td>0.0528</td>\n",
       "      <td>0.0958</td>\n",
       "      <td>0.1009</td>\n",
       "      <td>0.1240</td>\n",
       "      <td>...</td>\n",
       "      <td>0.0176</td>\n",
       "      <td>0.0127</td>\n",
       "      <td>0.0088</td>\n",
       "      <td>0.0098</td>\n",
       "      <td>0.0019</td>\n",
       "      <td>0.0059</td>\n",
       "      <td>0.0058</td>\n",
       "      <td>0.0059</td>\n",
       "      <td>0.0032</td>\n",
       "      <td>R</td>\n",
       "    </tr>\n",
       "    <tr>\n",
       "      <th>1</th>\n",
       "      <td>0.0599</td>\n",
       "      <td>0.0474</td>\n",
       "      <td>0.0498</td>\n",
       "      <td>0.0387</td>\n",
       "      <td>0.1026</td>\n",
       "      <td>0.0773</td>\n",
       "      <td>0.0853</td>\n",
       "      <td>0.0447</td>\n",
       "      <td>0.1094</td>\n",
       "      <td>0.0351</td>\n",
       "      <td>...</td>\n",
       "      <td>0.0013</td>\n",
       "      <td>0.0005</td>\n",
       "      <td>0.0227</td>\n",
       "      <td>0.0209</td>\n",
       "      <td>0.0081</td>\n",
       "      <td>0.0117</td>\n",
       "      <td>0.0114</td>\n",
       "      <td>0.0112</td>\n",
       "      <td>0.0100</td>\n",
       "      <td>M</td>\n",
       "    </tr>\n",
       "    <tr>\n",
       "      <th>2</th>\n",
       "      <td>0.0093</td>\n",
       "      <td>0.0269</td>\n",
       "      <td>0.0217</td>\n",
       "      <td>0.0339</td>\n",
       "      <td>0.0305</td>\n",
       "      <td>0.1172</td>\n",
       "      <td>0.1450</td>\n",
       "      <td>0.0638</td>\n",
       "      <td>0.0740</td>\n",
       "      <td>0.1360</td>\n",
       "      <td>...</td>\n",
       "      <td>0.0212</td>\n",
       "      <td>0.0091</td>\n",
       "      <td>0.0056</td>\n",
       "      <td>0.0086</td>\n",
       "      <td>0.0092</td>\n",
       "      <td>0.0070</td>\n",
       "      <td>0.0116</td>\n",
       "      <td>0.0060</td>\n",
       "      <td>0.0110</td>\n",
       "      <td>R</td>\n",
       "    </tr>\n",
       "    <tr>\n",
       "      <th>3</th>\n",
       "      <td>0.0151</td>\n",
       "      <td>0.0320</td>\n",
       "      <td>0.0599</td>\n",
       "      <td>0.1050</td>\n",
       "      <td>0.1163</td>\n",
       "      <td>0.1734</td>\n",
       "      <td>0.1679</td>\n",
       "      <td>0.1119</td>\n",
       "      <td>0.0889</td>\n",
       "      <td>0.1205</td>\n",
       "      <td>...</td>\n",
       "      <td>0.0061</td>\n",
       "      <td>0.0015</td>\n",
       "      <td>0.0084</td>\n",
       "      <td>0.0128</td>\n",
       "      <td>0.0054</td>\n",
       "      <td>0.0011</td>\n",
       "      <td>0.0019</td>\n",
       "      <td>0.0023</td>\n",
       "      <td>0.0062</td>\n",
       "      <td>R</td>\n",
       "    </tr>\n",
       "    <tr>\n",
       "      <th>4</th>\n",
       "      <td>0.0317</td>\n",
       "      <td>0.0956</td>\n",
       "      <td>0.1321</td>\n",
       "      <td>0.1408</td>\n",
       "      <td>0.1674</td>\n",
       "      <td>0.1710</td>\n",
       "      <td>0.0731</td>\n",
       "      <td>0.1401</td>\n",
       "      <td>0.2083</td>\n",
       "      <td>0.3513</td>\n",
       "      <td>...</td>\n",
       "      <td>0.0201</td>\n",
       "      <td>0.0248</td>\n",
       "      <td>0.0131</td>\n",
       "      <td>0.0070</td>\n",
       "      <td>0.0138</td>\n",
       "      <td>0.0092</td>\n",
       "      <td>0.0143</td>\n",
       "      <td>0.0036</td>\n",
       "      <td>0.0103</td>\n",
       "      <td>R</td>\n",
       "    </tr>\n",
       "  </tbody>\n",
       "</table>\n",
       "<p>5 rows × 61 columns</p>\n",
       "</div>"
      ],
      "text/plain": [
       "       A1      A2      A3      A4      A5      A6      A7      A8      A9  \\\n",
       "0  0.0079  0.0086  0.0055  0.0250  0.0344  0.0546  0.0528  0.0958  0.1009   \n",
       "1  0.0599  0.0474  0.0498  0.0387  0.1026  0.0773  0.0853  0.0447  0.1094   \n",
       "2  0.0093  0.0269  0.0217  0.0339  0.0305  0.1172  0.1450  0.0638  0.0740   \n",
       "3  0.0151  0.0320  0.0599  0.1050  0.1163  0.1734  0.1679  0.1119  0.0889   \n",
       "4  0.0317  0.0956  0.1321  0.1408  0.1674  0.1710  0.0731  0.1401  0.2083   \n",
       "\n",
       "      A10  ...     A52     A53     A54     A55     A56     A57     A58  \\\n",
       "0  0.1240  ...  0.0176  0.0127  0.0088  0.0098  0.0019  0.0059  0.0058   \n",
       "1  0.0351  ...  0.0013  0.0005  0.0227  0.0209  0.0081  0.0117  0.0114   \n",
       "2  0.1360  ...  0.0212  0.0091  0.0056  0.0086  0.0092  0.0070  0.0116   \n",
       "3  0.1205  ...  0.0061  0.0015  0.0084  0.0128  0.0054  0.0011  0.0019   \n",
       "4  0.3513  ...  0.0201  0.0248  0.0131  0.0070  0.0138  0.0092  0.0143   \n",
       "\n",
       "      A59     A60  Class  \n",
       "0  0.0059  0.0032      R  \n",
       "1  0.0112  0.0100      M  \n",
       "2  0.0060  0.0110      R  \n",
       "3  0.0023  0.0062      R  \n",
       "4  0.0036  0.0103      R  \n",
       "\n",
       "[5 rows x 61 columns]"
      ]
     },
     "execution_count": 30,
     "metadata": {},
     "output_type": "execute_result"
    }
   ],
   "source": [
    "# load in train and test dataset \n",
    "sonar_train = pd.read_csv('./sonar_dataset/sonar_train.csv')\n",
    "sonar_test = pd.read_csv('./sonar_dataset/sonar_test.csv')\n",
    "\n",
    "# print dataset sizes\n",
    "print('Train dataset shape:', sonar_train.shape)\n",
    "print('Test dataset shape:', sonar_test.shape)\n",
    "\n",
    "# show first 5 samples\n",
    "sonar_train.head()"
   ]
  },
  {
   "cell_type": "markdown",
   "id": "1893595e-5bd6-4a34-8ebe-b92da59d2b36",
   "metadata": {},
   "source": [
    "As illustrated above, the train dataset has 139 samples whereas the test dataset has 69. Both feature 61 attributes which include 60 numerical/quantitative  attributes and one class attribute \"Class\". The class column has categories \"M\" for Metal Cylinder and \"R\" for Rock. \n",
    "\n",
    "Subsequently, the class column will be used as our target variables for a binary classification task where \"M\" represents the positive class. "
   ]
  },
  {
   "cell_type": "code",
   "execution_count": 3,
   "id": "48b42ce5-fed4-4527-bc3c-1970aaf68158",
   "metadata": {},
   "outputs": [
    {
     "data": {
      "text/plain": [
       "0"
      ]
     },
     "execution_count": 3,
     "metadata": {},
     "output_type": "execute_result"
    }
   ],
   "source": [
    "# check if there are any null values in train dataset\n",
    "sonar_train.isnull().sum().sum()"
   ]
  },
  {
   "cell_type": "code",
   "execution_count": 4,
   "id": "e6232064-1a37-46ef-b639-a00122540af9",
   "metadata": {},
   "outputs": [
    {
     "data": {
      "text/plain": [
       "0"
      ]
     },
     "execution_count": 4,
     "metadata": {},
     "output_type": "execute_result"
    }
   ],
   "source": [
    "# check if there are any null values in train dataset\n",
    "sonar_test.isnull().sum().sum()"
   ]
  },
  {
   "cell_type": "markdown",
   "id": "ab7ee65c-b92c-4012-8d50-2e9ed77a542c",
   "metadata": {},
   "source": [
    "With having both datasets checked for null values and none were found, we can proceed with splitting the data into train-test sets accordingly. Since both datasets include the 'class' attribute, we will isolate this column as the target variable (y-values), while the remaining columns will be used as features in the training set."
   ]
  },
  {
   "cell_type": "code",
   "execution_count": 5,
   "id": "7d61176e-e2be-4b09-baf8-8be4158975c4",
   "metadata": {},
   "outputs": [],
   "source": [
    "# Data splitting\n",
    "# train splits\n",
    "sonar_train_y = sonar_train['Class']\n",
    "sonar_train_X = sonar_train.drop('Class', axis=1)\n",
    "\n",
    "# test splits\n",
    "sonar_test_y = sonar_test['Class']\n",
    "sonar_test_X = sonar_test.drop('Class', axis=1)"
   ]
  },
  {
   "cell_type": "code",
   "execution_count": 6,
   "id": "4d4a691a-79a4-4b30-a058-dbb795339eb5",
   "metadata": {},
   "outputs": [
    {
     "name": "stdout",
     "output_type": "stream",
     "text": [
      "sonar_train_X shape: (139, 60)\n",
      "sonar_train_y shape: (139,) \n",
      "\n",
      "sonar_test_X shape: (69, 60)\n",
      "sonar_test_y shape: (69,)\n"
     ]
    }
   ],
   "source": [
    "print('sonar_train_X shape:', sonar_train_X.shape)\n",
    "print('sonar_train_y shape:', sonar_train_y.shape, '\\n')\n",
    "print('sonar_test_X shape:', sonar_test_X.shape)\n",
    "print('sonar_test_y shape:', sonar_test_y.shape)"
   ]
  },
  {
   "cell_type": "markdown",
   "id": "96e8e242-96bc-4e4b-93ca-7a5a066dab4c",
   "metadata": {},
   "source": [
    "## Build Functions"
   ]
  },
  {
   "cell_type": "code",
   "execution_count": 1,
   "id": "89c20806-50ca-435e-931e-d84bff0cc63e",
   "metadata": {},
   "outputs": [],
   "source": [
    "class simple_nearest_neighbour:\n",
    "    # class constructor \n",
    "    def __init__(self):\n",
    "        pass\n",
    "\n",
    "    # fit data method \n",
    "    def fit(self, X_train, y_train):\n",
    "        # define pointers X_train, y_train that point to original datasets\n",
    "        self.X_train = X_train\n",
    "        self.y_train = y_train\n",
    "\n",
    "    # predict method\n",
    "    # The Euclidean distance is a special case of the Minkowski distance where the power is set to 2\n",
    "    # by default we will measure the The Euclidean distance\n",
    "    def predict(self, X_test, power_q=2):\n",
    "        predictions = []\n",
    "        for i in range(X_test.shape[0]):\n",
    "            # 1. for sample i measure its distance against every train sample\n",
    "            mink_distance = np.sum(np.abs(self.X_train - X_test.iloc[i].values) ** power_q, axis=1) ** (1/power_q)\n",
    "            # 2. grab index of minimum distance\n",
    "            nearest_distance = np.argmin(mink_distance)\n",
    "            # 3. append to predictions the label at index nearest_distance to classify the sample\n",
    "            predictions.append(self.y_train[nearest_distance])\n",
    "            \n",
    "        return np.array(predictions)"
   ]
  },
  {
   "cell_type": "code",
   "execution_count": 8,
   "id": "9cd4ff43-d87f-4c6e-b0dc-7c26c4d82e63",
   "metadata": {},
   "outputs": [],
   "source": [
    "def scores(y_true, y_pred):\n",
    "    print('Accuracy score:', accuracy_score(y_true, y_pred))\n",
    "    print('Recall score: ', recall_score(y_true, y_pred, pos_label='M'))\n",
    "    print('Precision score: ', precision_score(y_true, y_pred, pos_label='M'))\n",
    "    print('f1 score score: ', f1_score(y_true, y_pred, pos_label='M'))"
   ]
  },
  {
   "cell_type": "code",
   "execution_count": 9,
   "id": "74afb1d9-0b60-4937-96ec-ee6857900ede",
   "metadata": {},
   "outputs": [],
   "source": [
    "def grid_scores(y_true, y_pred):\n",
    "    return (accuracy_score(y_true, y_pred), \n",
    "    recall_score(y_true, y_pred, pos_label='M'), \n",
    "    precision_score(y_true, y_pred, pos_label='M'), \n",
    "    f1_score(y_true, y_pred, pos_label='M'))"
   ]
  },
  {
   "cell_type": "code",
   "execution_count": 10,
   "id": "b412dfe3-2f8d-4035-bd8b-c854fd9aeec3",
   "metadata": {},
   "outputs": [],
   "source": [
    "def plot(title, ylabel, x_axis, y_axis):\n",
    "    plt.clf()\n",
    "    plt.title(title)\n",
    "    plt.xlabel(\"Power P\")\n",
    "    plt.ylabel(ylabel)\n",
    "    plt.plot(x_axis, y_axis, linestyle='-')\n",
    "    plt.show() "
   ]
  },
  {
   "cell_type": "markdown",
   "id": "164e2c6b-87da-4a4b-accf-14d73c5b4ffd",
   "metadata": {},
   "source": [
    "## Model Evaluation\n",
    "### Model 1: Euclidean distance"
   ]
  },
  {
   "cell_type": "code",
   "execution_count": 11,
   "id": "52626ed3-fcd3-4306-b0a5-80b942f576ff",
   "metadata": {},
   "outputs": [
    {
     "name": "stdout",
     "output_type": "stream",
     "text": [
      "Accuracy score: 0.8985507246376812\n",
      "Recall score:  0.972972972972973\n",
      "Precision score:  0.8571428571428571\n",
      "f1 score score:  0.9113924050632911\n"
     ]
    }
   ],
   "source": [
    "# define model and fit to training data\n",
    "SNN = simple_nearest_neighbour()\n",
    "SNN.fit(sonar_train_X, sonar_train_y)\n",
    "# by default power q is 2 hence we can simply pass the test data alone\n",
    "predictions = SNN.predict(sonar_test_X)\n",
    "scores(sonar_test_y, predictions)"
   ]
  },
  {
   "cell_type": "markdown",
   "id": "f1ed4b25-9243-493e-a93c-42d4af37cd6e",
   "metadata": {},
   "source": [
    "### Model 2: Manhatten distance"
   ]
  },
  {
   "cell_type": "code",
   "execution_count": 12,
   "id": "0721e9c7-3df0-4dca-82c2-273dd47ecba3",
   "metadata": {},
   "outputs": [
    {
     "name": "stdout",
     "output_type": "stream",
     "text": [
      "Accuracy score: 0.8840579710144928\n",
      "Recall score:  0.9459459459459459\n",
      "Precision score:  0.8536585365853658\n",
      "f1 score score:  0.8974358974358975\n"
     ]
    }
   ],
   "source": [
    "# define model and fit to training data\n",
    "SNN = simple_nearest_neighbour()\n",
    "SNN.fit(sonar_train_X, sonar_train_y)\n",
    "# set power q to 1 converting the distance into manhatten distance\n",
    "predictions = SNN.predict(sonar_test_X, power_q=1) \n",
    "scores(sonar_test_y, predictions)"
   ]
  },
  {
   "cell_type": "markdown",
   "id": "5d986572-1308-47b3-9a42-5c31468cdf82",
   "metadata": {},
   "source": [
    "## Grid Search for Best Power \"Q\""
   ]
  },
  {
   "cell_type": "code",
   "execution_count": 20,
   "id": "97aecb17-4032-4346-86b5-0cf3f5f63b4f",
   "metadata": {},
   "outputs": [],
   "source": [
    "# define dic that will hold scores\n",
    "results = {'accuracy': [], 'precision': [], 'recall': [], 'f1': []}\n",
    "\n",
    "for i in range(1, 21):\n",
    "    # define model and fit to training data\n",
    "    SNN = simple_nearest_neighbour()\n",
    "    SNN.fit(sonar_train_X, sonar_train_y)\n",
    "    predictions = SNN.predict(sonar_test_X, power_q=i)\n",
    "    # grid_scores returns a tuple in the order accuracy_score, recall_score, precision_score, and f1_score\n",
    "    scores = grid_scores(sonar_test_y, predictions)\n",
    "\n",
    "    # append scores into dic accordingly\n",
    "    results['accuracy'].append(scores[0])\n",
    "    results['precision'].append(scores[1])\n",
    "    results['recall'].append(scores[2])\n",
    "    results['f1'].append(scores[3])"
   ]
  },
  {
   "cell_type": "code",
   "execution_count": 21,
   "id": "350786a6-b4d4-4315-bac7-4a531ec78b86",
   "metadata": {},
   "outputs": [
    {
     "data": {
      "image/png": "[encoded data removed]",
      "text/plain": [
       "<Figure size 640x480 with 1 Axes>"
      ]
     },
     "metadata": {},
     "output_type": "display_data"
    }
   ],
   "source": [
    "# define x axis value for plots\n",
    "x_axis = list(range(1, 21))\n",
    "\n",
    "# accuracy plot\n",
    "plot('Accuracy Vs. Power Q', 'Accuracy Score', x_axis, results['accuracy'])"
   ]
  },
  {
   "cell_type": "code",
   "execution_count": 26,
   "id": "9028fdd3-42b1-438d-9fc3-e0e8e7fd462d",
   "metadata": {},
   "outputs": [
    {
     "name": "stdout",
     "output_type": "stream",
     "text": [
      "Best accuracy on q: 2\n",
      "Achieved accuracy: 0.8985507246376812\n"
     ]
    }
   ],
   "source": [
    "# add 1 as indexing starts at 0 (0-19)\n",
    "best_q = np.argmax(results['accuracy']) + 1\n",
    "print('Best accuracy on q:', best_q)\n",
    "print('Achieved accuracy:', results['accuracy'][1])"
   ]
  },
  {
   "cell_type": "markdown",
   "id": "f71a5e7d-756f-4c23-b040-5e883a7bb2ac",
   "metadata": {},
   "source": [
    "The plot above shows there has been a consistent decrease in accuracy as power q grows. The value of q with the best accuracy is 2 otherwise known as the euclidean distance."
   ]
  },
  {
   "cell_type": "code",
   "execution_count": 27,
   "id": "ac416a2f-e7ad-43ab-9ce5-cadfc0cd6ea5",
   "metadata": {},
   "outputs": [
    {
     "data": {
      "image/png": "[encoded data removed]",
      "text/plain": [
       "<Figure size 640x480 with 1 Axes>"
      ]
     },
     "metadata": {},
     "output_type": "display_data"
    }
   ],
   "source": [
    "plot('Precision Vs. Power Q', 'Precision Score', x_axis, results['precision'])"
   ]
  },
  {
   "cell_type": "code",
   "execution_count": 28,
   "id": "e30885ce-aed3-49ae-b90b-0ef35a23328c",
   "metadata": {},
   "outputs": [
    {
     "data": {
      "image/png": "[encoded data removed]",
      "text/plain": [
       "<Figure size 640x480 with 1 Axes>"
      ]
     },
     "metadata": {},
     "output_type": "display_data"
    }
   ],
   "source": [
    "plot('Recall Vs. Power Q', 'Recall Score', x_axis, results['recall'])"
   ]
  },
  {
   "cell_type": "code",
   "execution_count": 29,
   "id": "173ac13b-0587-401a-95b5-6d3c3df9aa25",
   "metadata": {},
   "outputs": [
    {
     "data": {
      "image/png": "[encoded data removed]",
      "text/plain": [
       "<Figure size 640x480 with 1 Axes>"
      ]
     },
     "metadata": {},
     "output_type": "display_data"
    }
   ],
   "source": [
    "plot('f1 Vs. Power Q', 'f1 Score', x_axis, results['f1'])"
   ]
  },
  {
   "cell_type": "code",
   "execution_count": null,
   "id": "ed0a2a83-210d-42ba-b040-e234a2016a40",
   "metadata": {},
   "outputs": [],
   "source": []
  }
 ],
 "metadata": {
  "kernelspec": {
   "display_name": "Python 3 (ipykernel)",
   "language": "python",
   "name": "python3"
  },
  "language_info": {
   "codemirror_mode": {
    "name": "ipython",
    "version": 3
   },
   "file_extension": ".py",
   "mimetype": "text/x-python",
   "name": "python",
   "nbconvert_exporter": "python",
   "pygments_lexer": "ipython3",
   "version": "3.11.5"
  }
 },
 "nbformat": 4,
 "nbformat_minor": 5
}
